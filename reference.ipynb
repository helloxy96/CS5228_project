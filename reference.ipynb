{
 "cells": [
  {
   "cell_type": "code",
   "execution_count": 1,
   "metadata": {},
   "outputs": [],
   "source": [
    "# Importing Libraries\n",
    "import pandas as pd\n",
    "import numpy as np\n",
    "from numpy import argmax\n",
    "import matplotlib.pyplot as plt\n",
    "import seaborn as sns\n",
    "import pandas_profiling as pp\n",
    "import datetime\n",
    "import math\n",
    "from datetime import date\n",
    "from scipy import stats\n",
    "\n",
    "# Feature Selection\n",
    "from sklearn.feature_selection import SelectKBest\n",
    "from sklearn.feature_selection import f_classif\n",
    "\n",
    "# Imbalance Dataset\n",
    "from imblearn.over_sampling import SMOTE, ADASYN\n",
    "from imblearn.under_sampling import RandomUnderSampler\n",
    "from imblearn.over_sampling import RandomOverSampler\n",
    "from imblearn.pipeline import Pipeline\n",
    "\n",
    "# Model Evaluation\n",
    "from sklearn.preprocessing import StandardScaler\n",
    "from sklearn.model_selection import train_test_split\n",
    "from sklearn.metrics import confusion_matrix, classification_report\n",
    "from sklearn.metrics import plot_confusion_matrix, f1_score,auc,roc_curve,roc_auc_score, precision_recall_curve\n",
    "\n",
    "# Modelling Algoritm\n",
    "from sklearn.model_selection import GridSearchCV\n",
    "from sklearn.model_selection import RandomizedSearchCV\n",
    "from sklearn.linear_model import LogisticRegression\n",
    "from sklearn.naive_bayes import GaussianNB\n",
    "from sklearn.neighbors import KNeighborsClassifier\n",
    "from sklearn.ensemble import RandomForestClassifier\n",
    "from xgboost import XGBClassifier\n",
    "import scikitplot as skplt\n",
    "\n",
    "import warnings\n",
    "warnings.simplefilter(action='ignore')"
   ]
  },
  {
   "cell_type": "code",
   "execution_count": 2,
   "metadata": {},
   "outputs": [],
   "source": [
    "SBAdata = pd.read_csv('Xtrain.csv')\n",
    "df_y = pd.read_csv('Ytrain.csv')\n",
    "SBAdata = pd.concat([SBAdata, df_y['ChargeOff']], axis=1, sort=False)"
   ]
  },
  {
   "cell_type": "code",
   "execution_count": 3,
   "metadata": {},
   "outputs": [],
   "source": [
    "date_col = ['ApprovalDate','DisbursementDate']\n",
    "SBAdata[date_col] = pd.to_datetime(SBAdata[date_col].stack(),format='%d-%b-%y').unstack()\n",
    "\n",
    "SBAdata['ApprovalFY'].replace('1976A', 1976, inplace=True)\n",
    "SBAdata['ApprovalFY']= SBAdata['ApprovalFY'].astype(int)\n",
    "\n",
    "curr_col = ['DisbursementGross', 'BalanceGross', 'GrAppv', 'SBA_Appv']\n",
    "SBAdata[curr_col] = SBAdata[curr_col].replace('[\\$,]', '', regex=True).astype(float) \n",
    "\n",
    "SBAdata['LowDoc'] = SBAdata['LowDoc'].replace({'[C, S, A, R, 1, 0]':np.nan})\n",
    "SBAdata['LowDoc'] = SBAdata['LowDoc'].replace({'N': 0, 'Y':1})\n",
    "SBAdata['LowDoc'] = np.where((SBAdata['LowDoc'] != 0) & (SBAdata['LowDoc'] != 1), \n",
    "                             np.nan, SBAdata.LowDoc)\n",
    "\n",
    "SBAdata['RevLineCr'] = SBAdata['RevLineCr'].replace({'N': 0, 'Y':1, 'T':0})\n",
    "SBAdata['RevLineCr'] = SBAdata['RevLineCr'].replace({'0': 0, '1':1, })\n",
    "SBAdata['RevLineCr'] = np.where((SBAdata['RevLineCr'] != 0) & (SBAdata['RevLineCr'] != 1), \n",
    "                                np.nan, SBAdata.RevLineCr)\n",
    "\n",
    "SBAdata['NewExist'] = SBAdata['NewExist'].replace({1.0: 0, 2.0:1, 0:np.nan}).fillna(0).astype(int)"
   ]
  },
  {
   "cell_type": "code",
   "execution_count": 4,
   "metadata": {},
   "outputs": [],
   "source": [
    "SBAdata['FranchiseCode'] = SBAdata['FranchiseCode'].replace(1,0 )\n",
    "SBAdata['FranchiseCode'] = np.where((SBAdata.FranchiseCode != 0 ), 1, SBAdata.FranchiseCode)\n",
    "\n",
    "SBAdata.rename(columns={\"FranchiseCode\": \"Is_Franchised\"}, inplace=True)\n",
    "\n",
    "SBAdata['CreateJob'] = np.where((SBAdata.CreateJob > 0 ),1,SBAdata.CreateJob)\n",
    "SBAdata.rename(columns={\"CreateJob\": \"Is_CreatedJob\"}, inplace=True)\n",
    "\n",
    "SBAdata['RetainedJob'] = np.where((SBAdata.RetainedJob > 0 ),1,SBAdata.RetainedJob)\n",
    "SBAdata.rename(columns={\"RetainedJob\": \"Is_RetainedJob\"}, inplace=True)\n",
    "\n",
    "SBAdata['RealEstate'] = SBAdata['Term'].apply(lambda x: 1 if x >= 240 else 0)\n",
    "\n",
    "SBAdata['DaysTerm'] =  SBAdata['Term']*30\n",
    "SBAdata['Active'] = SBAdata['DisbursementDate'] + pd.TimedeltaIndex(SBAdata['DaysTerm'], unit='D')\n",
    "\n",
    "startdate = datetime.datetime.strptime('2007-12-1', \"%Y-%m-%d\").date()\n",
    "enddate = datetime.datetime.strptime('2009-06-30', \"%Y-%m-%d\").date()\n",
    "\n",
    "SBAdata['Recession'] = SBAdata['Active'].apply(lambda x: 1 if startdate <= x <= enddate else 0)"
   ]
  },
  {
   "cell_type": "code",
   "execution_count": 5,
   "metadata": {},
   "outputs": [],
   "source": [
    "ind_code = SBAdata['NAICS']\n",
    "\n",
    "def get_code(ind_code):\n",
    "    if ind_code <= 0:\n",
    "        return 0\n",
    "    \n",
    "    return (ind_code // 10 ** (int(math.log(ind_code, 10)) - 1))\n",
    "\n",
    "\n",
    "def sector_name(i):\n",
    "    \n",
    "    def_code = {11:'Agriculture, Forestry, Fishing & Hunting', 21:'Mining, Quarying, Oil & Gas',\n",
    "                22:'Utilities', 23:'Constuction', 31:'Manufacturing', 32:'Manufacturing', 33:'Manufacturing',\n",
    "                42:'Wholesale Trade', 44:'Retail Trade', 45:'Retail Trade', 48:'Transportation & Warehousing',\n",
    "                49:'Transportation & Warehousing', 51:'Information', 52:'Finance & Insurance', \n",
    "                53:'Real Estate, Rental & Leasing', 54:'Professional, Scientific & Technical Service',\n",
    "                55:'Management of Companies & Enterprise', \n",
    "                56:'Administrative, Support, Waste Management & Remediation Service',\n",
    "                61:'Educational Service', 62:'Health Care & Social Assistance',\n",
    "                71:'Arts, Entertainment & Recreation', 72:'Accomodation & Food Service',\n",
    "                81:'Other Servieces (Ex: Public Administration)', 92:'Public Administration'\n",
    "               }\n",
    "    \n",
    "    if i in def_code:\n",
    "        return def_code[i]\n",
    "    \n",
    "def def_rate(i):\n",
    "    \n",
    "    sector_default = {21:0.08, 11:0.09, 55:0.10, \n",
    "                      62: 0.10, 22:0.14, \n",
    "                      92:0.15,54:0.19, \n",
    "                      42:0.19,31:0.19,\n",
    "                      32:0.16,33:0.14,\n",
    "                      81:0.20,71:0.21,\n",
    "                      72:0.22,44:0.22,\n",
    "                      45:0.23,23:0.23,\n",
    "                      56:0.24,61:0.24,\n",
    "                      51:0.25,48:0.27,\n",
    "                      49:0.23,52:0.28,53:0.29}\n",
    "    \n",
    "    if i in sector_default:\n",
    "        return sector_default[i]\n",
    "\n",
    "    return np.nan"
   ]
  },
  {
   "cell_type": "code",
   "execution_count": 6,
   "metadata": {},
   "outputs": [],
   "source": [
    "SBAdata['ind_code'] = SBAdata.NAICS.apply(get_code)\n",
    "\n",
    "SBAdata['Sector_name'] = SBAdata.ind_code.apply(sector_name)\n",
    "\n",
    "SBAdata['Sector_rate'] = SBAdata.NAICS.apply(get_code).apply(def_rate)"
   ]
  },
  {
   "cell_type": "code",
   "execution_count": 7,
   "metadata": {},
   "outputs": [],
   "source": [
    "def_state = SBAdata.groupby(['State', 'ChargeOff'])['State'].count().unstack('ChargeOff')\n",
    "def_state['Def_Percent'] = def_state[1]/(def_state[1] + def_state[0])\n",
    "def_state = def_state.drop(axis=1, columns=[0.0, 1.0]).round(1).to_dict()\n",
    "\n",
    "def state_def_rate(i):\n",
    "    def_state = {'AK': 0.1,'AL': 0.2, 'AR': 0.2, 'AZ': 0.2,'CA': 0.2, 'CO': 0.2, 'CT': 0.1, 'DC': 0.2,\n",
    "                 'DE': 0.2, 'FL': 0.3, 'GA': 0.2, 'HI': 0.2, 'IA': 0.1, 'ID': 0.1, 'IL': 0.2, 'IN': 0.2, \n",
    "                 'KS': 0.1, 'KY': 0.2, 'LA': 0.2, 'MA': 0.1, 'MD': 0.2, 'ME': 0.1, 'MI': 0.2, 'MN': 0.1,\n",
    "                 'MO': 0.2, 'MS': 0.2, 'MT': 0.1, 'NC': 0.2, 'ND': 0.1, 'NE': 0.1, 'NH': 0.1, 'NJ': 0.2,\n",
    "                 'NM': 0.1, 'NV': 0.2, 'NY': 0.2, 'OH': 0.2, 'OK': 0.2, 'OR': 0.2, 'PA': 0.1, 'RI': 0.1,\n",
    "                 'SC': 0.2, 'SD': 0.1, 'TN': 0.2, 'TX': 0.2, 'UT': 0.2, 'VA': 0.2, 'VT': 0.1, 'WA': 0.1,\n",
    "                 'WI': 0.1, 'WV': 0.2, 'WY': 0.1}\n",
    "\n",
    "    if i in def_state:\n",
    "        return def_state[i]"
   ]
  },
  {
   "cell_type": "code",
   "execution_count": 8,
   "metadata": {},
   "outputs": [],
   "source": [
    "SBAdata['State_rate'] = SBAdata.State.apply(state_def_rate)"
   ]
  },
  {
   "cell_type": "code",
   "execution_count": 9,
   "metadata": {},
   "outputs": [],
   "source": [
    "SBAdata['Portion_SBA_Bank'] = SBAdata['SBA_Appv']/SBAdata['GrAppv']\n",
    "SBAdata = SBAdata[SBAdata['DisbursementDate'] <= pd.Timestamp(2010, 12, 31)]"
   ]
  },
  {
   "cell_type": "code",
   "execution_count": 10,
   "metadata": {},
   "outputs": [],
   "source": [
    "SBAdata['LowDoc'] = np.where((SBAdata['LowDoc'] == np.nan) & (SBAdata['DisbursementGross'] < 150000),\n",
    "                             1, \n",
    "                             SBAdata.LowDoc)\n",
    "\n",
    "SBAdata['LowDoc'] = np.where((SBAdata['LowDoc'] == np.nan) & (SBAdata['DisbursementGross'] >= 150000),\n",
    "                             0,\n",
    "                             SBAdata.LowDoc)\n",
    "\n",
    "SBAdata = SBAdata[(SBAdata['LowDoc'] == 0) | (SBAdata['LowDoc'] == 1)]"
   ]
  },
  {
   "cell_type": "code",
   "execution_count": 11,
   "metadata": {},
   "outputs": [],
   "source": [
    "SBAdata = SBAdata.drop(axis=1, columns=['Name','Bank','NAICS', 'BankState', 'Active', 'DaysTerm'])"
   ]
  },
  {
   "cell_type": "code",
   "execution_count": 12,
   "metadata": {},
   "outputs": [],
   "source": [
    "SBAdata.dropna(subset=['City', 'State','LowDoc', 'Sector_rate', 'Sector_name', 'RevLineCr'], inplace=True)"
   ]
  },
  {
   "cell_type": "code",
   "execution_count": 13,
   "metadata": {},
   "outputs": [],
   "source": [
    "SBAdata = SBAdata.drop(axis =1, columns = ['City','State', 'Zip', 'UrbanRural', 'LowDoc', \n",
    "                                           'ApprovalDate', 'ApprovalFY', 'SBA_Appv','DisbursementDate', \n",
    "                                           'Sector_name','BalanceGross'])"
   ]
  },
  {
   "cell_type": "code",
   "execution_count": 14,
   "metadata": {},
   "outputs": [],
   "source": [
    "SBAdata['DisbursementGross'] = np.log(SBAdata['DisbursementGross'])\n",
    "\n",
    "outliers1_drop = SBAdata[(SBAdata['DisbursementGross'] > 14.9)].index\n",
    "SBAdata.drop(outliers1_drop, inplace=True)\n",
    "\n",
    "SBAdata['GrAppv'] = np.log(SBAdata['GrAppv'])\n",
    "\n",
    "outliers2_drop = SBAdata[(SBAdata['GrAppv'] < 7.5)].index\n",
    "SBAdata.drop(outliers2_drop, inplace=True)\n",
    "\n",
    "wrong_input = SBAdata[(SBAdata['NoEmp'] == 0)].index\n",
    "SBAdata.drop(wrong_input, inplace=True)\n",
    "\n",
    "SBAdata['NoEmp']= stats.boxcox(SBAdata['NoEmp'])[0]\n",
    "\n",
    "outliers3_drop = SBAdata[(SBAdata['NoEmp'] > 3.3)].index\n",
    "SBAdata.drop(outliers3_drop, inplace=True)\n",
    "\n",
    "wrong_input_2 = SBAdata[(SBAdata['Term'] < 75)].index\n",
    "wrong_input_3 = SBAdata[(SBAdata['Term'] > 276)].index\n",
    "SBAdata.drop(wrong_input_2, inplace=True)\n",
    "SBAdata.drop(wrong_input_3, inplace=True)"
   ]
  },
  {
   "cell_type": "code",
   "execution_count": null,
   "metadata": {},
   "outputs": [],
   "source": []
  },
  {
   "cell_type": "code",
   "execution_count": 15,
   "metadata": {},
   "outputs": [
    {
     "data": {
      "image/png": "[encoded data removed]",
      "text/plain": [
       "<Figure size 1152x648 with 1 Axes>"
      ]
     },
     "metadata": {
      "needs_background": "light"
     },
     "output_type": "display_data"
    }
   ],
   "source": [
    "y = SBAdata['ChargeOff']\n",
    "X = SBAdata.drop(columns=['ChargeOff'], axis=1)\n",
    "\n",
    "\n",
    "model = XGBClassifier()\n",
    "model.fit(X,y)\n",
    "\n",
    "feat_importances = pd.Series(model.feature_importances_, index = X.columns)\n",
    "\n",
    "f, ax = plt.subplots(figsize = (16,9))\n",
    "\n",
    "feat_importances.nlargest(10).plot(kind = 'barh')\n",
    "\n",
    "plt.title('Feature Importance', fontsize = 20)\n",
    "plt.ylabel('Features', fontsize = 15)\n",
    "plt.xlabel('Score', fontsize = 15)\n",
    "\n",
    "plt.show()"
   ]
  },
  {
   "cell_type": "code",
   "execution_count": 16,
   "metadata": {},
   "outputs": [
    {
     "data": {
      "text/plain": [
       "(15764, 11)"
      ]
     },
     "execution_count": 16,
     "metadata": {},
     "output_type": "execute_result"
    }
   ],
   "source": [
    "SBAdata = SBAdata[['RevLineCr', 'Term', 'Portion_SBA_Bank', 'GrAppv', 'State_rate', 'DisbursementGross',\n",
    "            'Is_RetainedJob', 'Sector_rate', 'Recession', 'Is_CreatedJob', 'ChargeOff']]\n",
    "SBAdata.shape"
   ]
  },
  {
   "cell_type": "code",
   "execution_count": 17,
   "metadata": {},
   "outputs": [],
   "source": [
    "y = SBAdata['ChargeOff']\n",
    "X = SBAdata.drop(columns=['ChargeOff'], axis = 1)\n",
    "scale = StandardScaler()\n",
    "X_scaled = scale.fit_transform(X)\n",
    "\n",
    "X_train, X_test, y_train, y_test = train_test_split(\n",
    "    X_scaled, \n",
    "    y, \n",
    "    test_size = 0.25, \n",
    "    random_state = 27, \n",
    "    stratify = y)\n",
    "\n",
    "over = SMOTE(sampling_strategy='minority')\n",
    "under = RandomUnderSampler()\n",
    "steps = [('o', over), ('u', under)]\n",
    "pipeline = Pipeline(steps=steps)\n",
    "\n",
    "X_train, y_train = pipeline.fit_resample(X_train, y_train)"
   ]
  },
  {
   "cell_type": "code",
   "execution_count": 21,
   "metadata": {},
   "outputs": [],
   "source": [
    "def model_evaluation(algo,X_train,y_train,X_test,y_test):\n",
    "    algo.fit(X_train,y_train)\n",
    "    y_train_ypred = algo.predict(X_train)\n",
    "    y_train_prob = algo.predict_proba(X_train)[:,-1]\n",
    "\n",
    "    y_test_ypred = algo.predict(X_test)\n",
    "    y_test_prob = algo.predict_proba(X_test)[:,-1]\n",
    "    y_probas = algo.predict_proba(X_test)\n",
    "    \n",
    "    # Confussion Matrix\n",
    "    \n",
    "    plot_confusion_matrix(algo, X_test, y_test)\n",
    "    plt.show() \n",
    "    print('='*100)\n",
    "    print('Classification Report: \\n', classification_report(y_test, y_test_ypred, digits=3))\n",
    "    print('='*100)\n",
    "    \n",
    "    # ROC Curve\n",
    "    \n",
    "    skplt.metrics.plot_roc(y_test, y_probas,figsize=(16,9))\n",
    "\n",
    "def optimal_model(clf, params,X_train,y_train,X_test,y_test ):\n",
    "    \n",
    "    search = GridSearchCV(estimator=clf,\n",
    "                          param_grid=params,\n",
    "                          scoring = 'f1',\n",
    "                          n_jobs = -1,\n",
    "                          cv = 3,\n",
    "                          verbose=True)\n",
    "\n",
    "    \n",
    "    search.fit(X_train, y_train)\n",
    "    \n",
    "    best = search.best_estimator_\n",
    "    best_model = best.fit(X_train, y_train)\n",
    "\n",
    "    y_test_ypred = best_model.predict(X_test)\n",
    "    y_test_prob = best_model.predict_proba(X_test)[:,-1]\n",
    "    y_probas = best_model.predict_proba(X_test)\n",
    "    \n",
    "    print('Best parameters: \\n',search.best_params_)\n",
    "    print('='*70)\n",
    "    \n",
    "    \n",
    "    #Confussion Matrix\n",
    "    \n",
    "    plot_confusion_matrix(clf, X_test, y_test)\n",
    "    plt.show() \n",
    "    print('='*100)\n",
    "    print('Classification Report: \\n', classification_report(y_test, y_test_ypred, digits=3))\n",
    "    print('='*100)\n",
    "    \n",
    "    \n",
    "    # ROC Curve\n",
    "\n",
    "    skplt.metrics.plot_roc(y_test, y_probas,figsize=(16,9) )"
   ]
  },
  {
   "cell_type": "code",
   "execution_count": 22,
   "metadata": {},
   "outputs": [
    {
     "name": "stdout",
     "output_type": "stream",
     "text": [
      "Fitting 3 folds for each of 432 candidates, totalling 1296 fits\n"
     ]
    },
    {
     "name": "stderr",
     "output_type": "stream",
     "text": [
      "[Parallel(n_jobs=-1)]: Using backend LokyBackend with 8 concurrent workers.\n",
      "[Parallel(n_jobs=-1)]: Done  34 tasks      | elapsed:    8.6s\n",
      "[Parallel(n_jobs=-1)]: Done 184 tasks      | elapsed:   35.8s\n",
      "[Parallel(n_jobs=-1)]: Done 434 tasks      | elapsed:  1.4min\n",
      "[Parallel(n_jobs=-1)]: Done 784 tasks      | elapsed:  2.7min\n",
      "[Parallel(n_jobs=-1)]: Done 1234 tasks      | elapsed:  4.4min\n",
      "[Parallel(n_jobs=-1)]: Done 1296 out of 1296 | elapsed:  4.7min finished\n"
     ]
    },
    {
     "name": "stdout",
     "output_type": "stream",
     "text": [
      "Best parameters: \n",
      " {'colsample_bytree': 0.5, 'gamma': 0.0, 'learning_rate': 0.15, 'max_depth': 6, 'min_child_weight': 1}\n",
      "======================================================================\n"
     ]
    },
    {
     "ename": "NotFittedError",
     "evalue": "need to call fit or load_model beforehand",
     "output_type": "error",
     "traceback": [
      "\u001b[0;31m---------------------------------------------------------------------------\u001b[0m",
      "\u001b[0;31mNotFittedError\u001b[0m                            Traceback (most recent call last)",
      "\u001b[0;32m<ipython-input-22-a8de871f41cb>\u001b[0m in \u001b[0;36m<module>\u001b[0;34m\u001b[0m\n\u001b[1;32m     19\u001b[0m                     subsample = 1, verbosity = 1)\n\u001b[1;32m     20\u001b[0m \u001b[0;34m\u001b[0m\u001b[0m\n\u001b[0;32m---> 21\u001b[0;31m \u001b[0moptimal_model\u001b[0m\u001b[0;34m(\u001b[0m\u001b[0mxgb\u001b[0m\u001b[0;34m,\u001b[0m \u001b[0mparams\u001b[0m\u001b[0;34m,\u001b[0m \u001b[0mX_train\u001b[0m\u001b[0;34m,\u001b[0m \u001b[0my_train\u001b[0m\u001b[0;34m,\u001b[0m \u001b[0mX_test\u001b[0m\u001b[0;34m,\u001b[0m \u001b[0my_test\u001b[0m\u001b[0;34m)\u001b[0m\u001b[0;34m\u001b[0m\u001b[0;34m\u001b[0m\u001b[0m\n\u001b[0m\u001b[1;32m     22\u001b[0m \u001b[0;34m\u001b[0m\u001b[0m\n",
      "\u001b[0;32m<ipython-input-21-571fffa50b97>\u001b[0m in \u001b[0;36moptimal_model\u001b[0;34m(clf, params, X_train, y_train, X_test, y_test)\u001b[0m\n\u001b[1;32m     45\u001b[0m     \u001b[0;31m#Confussion Matrix\u001b[0m\u001b[0;34m\u001b[0m\u001b[0;34m\u001b[0m\u001b[0;34m\u001b[0m\u001b[0m\n\u001b[1;32m     46\u001b[0m \u001b[0;34m\u001b[0m\u001b[0m\n\u001b[0;32m---> 47\u001b[0;31m     \u001b[0mplot_confusion_matrix\u001b[0m\u001b[0;34m(\u001b[0m\u001b[0mclf\u001b[0m\u001b[0;34m,\u001b[0m \u001b[0mX_test\u001b[0m\u001b[0;34m,\u001b[0m \u001b[0my_test\u001b[0m\u001b[0;34m)\u001b[0m\u001b[0;34m\u001b[0m\u001b[0;34m\u001b[0m\u001b[0m\n\u001b[0m\u001b[1;32m     48\u001b[0m     \u001b[0mplt\u001b[0m\u001b[0;34m.\u001b[0m\u001b[0mshow\u001b[0m\u001b[0;34m(\u001b[0m\u001b[0;34m)\u001b[0m\u001b[0;34m\u001b[0m\u001b[0;34m\u001b[0m\u001b[0m\n\u001b[1;32m     49\u001b[0m     \u001b[0mprint\u001b[0m\u001b[0;34m(\u001b[0m\u001b[0;34m'='\u001b[0m\u001b[0;34m*\u001b[0m\u001b[0;36m100\u001b[0m\u001b[0;34m)\u001b[0m\u001b[0;34m\u001b[0m\u001b[0;34m\u001b[0m\u001b[0m\n",
      "\u001b[0;32m/usr/local/lib/python3.7/site-packages/sklearn/utils/validation.py\u001b[0m in \u001b[0;36minner_f\u001b[0;34m(*args, **kwargs)\u001b[0m\n\u001b[1;32m     70\u001b[0m                           FutureWarning)\n\u001b[1;32m     71\u001b[0m         \u001b[0mkwargs\u001b[0m\u001b[0;34m.\u001b[0m\u001b[0mupdate\u001b[0m\u001b[0;34m(\u001b[0m\u001b[0;34m{\u001b[0m\u001b[0mk\u001b[0m\u001b[0;34m:\u001b[0m \u001b[0marg\u001b[0m \u001b[0;32mfor\u001b[0m \u001b[0mk\u001b[0m\u001b[0;34m,\u001b[0m \u001b[0marg\u001b[0m \u001b[0;32min\u001b[0m \u001b[0mzip\u001b[0m\u001b[0;34m(\u001b[0m\u001b[0msig\u001b[0m\u001b[0;34m.\u001b[0m\u001b[0mparameters\u001b[0m\u001b[0;34m,\u001b[0m \u001b[0margs\u001b[0m\u001b[0;34m)\u001b[0m\u001b[0;34m}\u001b[0m\u001b[0;34m)\u001b[0m\u001b[0;34m\u001b[0m\u001b[0;34m\u001b[0m\u001b[0m\n\u001b[0;32m---> 72\u001b[0;31m         \u001b[0;32mreturn\u001b[0m \u001b[0mf\u001b[0m\u001b[0;34m(\u001b[0m\u001b[0;34m**\u001b[0m\u001b[0mkwargs\u001b[0m\u001b[0;34m)\u001b[0m\u001b[0;34m\u001b[0m\u001b[0;34m\u001b[0m\u001b[0m\n\u001b[0m\u001b[1;32m     73\u001b[0m     \u001b[0;32mreturn\u001b[0m \u001b[0minner_f\u001b[0m\u001b[0;34m\u001b[0m\u001b[0;34m\u001b[0m\u001b[0m\n\u001b[1;32m     74\u001b[0m \u001b[0;34m\u001b[0m\u001b[0m\n",
      "\u001b[0;32m/usr/local/lib/python3.7/site-packages/sklearn/metrics/_plot/confusion_matrix.py\u001b[0m in \u001b[0;36mplot_confusion_matrix\u001b[0;34m(estimator, X, y_true, labels, sample_weight, normalize, display_labels, include_values, xticks_rotation, values_format, cmap, ax)\u001b[0m\n\u001b[1;32m    217\u001b[0m         \u001b[0;32mraise\u001b[0m \u001b[0mValueError\u001b[0m\u001b[0;34m(\u001b[0m\u001b[0;34m\"plot_confusion_matrix only supports classifiers\"\u001b[0m\u001b[0;34m)\u001b[0m\u001b[0;34m\u001b[0m\u001b[0;34m\u001b[0m\u001b[0m\n\u001b[1;32m    218\u001b[0m \u001b[0;34m\u001b[0m\u001b[0m\n\u001b[0;32m--> 219\u001b[0;31m     \u001b[0my_pred\u001b[0m \u001b[0;34m=\u001b[0m \u001b[0mestimator\u001b[0m\u001b[0;34m.\u001b[0m\u001b[0mpredict\u001b[0m\u001b[0;34m(\u001b[0m\u001b[0mX\u001b[0m\u001b[0;34m)\u001b[0m\u001b[0;34m\u001b[0m\u001b[0;34m\u001b[0m\u001b[0m\n\u001b[0m\u001b[1;32m    220\u001b[0m     cm = confusion_matrix(y_true, y_pred, sample_weight=sample_weight,\n\u001b[1;32m    221\u001b[0m                           labels=labels, normalize=normalize)\n",
      "\u001b[0;32m/usr/local/lib/python3.7/site-packages/xgboost/sklearn.py\u001b[0m in \u001b[0;36mpredict\u001b[0;34m(self, data, output_margin, ntree_limit, validate_features, base_margin)\u001b[0m\n\u001b[1;32m    892\u001b[0m         \u001b[0;32mif\u001b[0m \u001b[0mntree_limit\u001b[0m \u001b[0;32mis\u001b[0m \u001b[0;32mNone\u001b[0m\u001b[0;34m:\u001b[0m\u001b[0;34m\u001b[0m\u001b[0;34m\u001b[0m\u001b[0m\n\u001b[1;32m    893\u001b[0m             \u001b[0mntree_limit\u001b[0m \u001b[0;34m=\u001b[0m \u001b[0mgetattr\u001b[0m\u001b[0;34m(\u001b[0m\u001b[0mself\u001b[0m\u001b[0;34m,\u001b[0m \u001b[0;34m\"best_ntree_limit\"\u001b[0m\u001b[0;34m,\u001b[0m \u001b[0;36m0\u001b[0m\u001b[0;34m)\u001b[0m\u001b[0;34m\u001b[0m\u001b[0;34m\u001b[0m\u001b[0m\n\u001b[0;32m--> 894\u001b[0;31m         class_probs = self.get_booster().predict(\n\u001b[0m\u001b[1;32m    895\u001b[0m             \u001b[0mtest_dmatrix\u001b[0m\u001b[0;34m,\u001b[0m\u001b[0;34m\u001b[0m\u001b[0;34m\u001b[0m\u001b[0m\n\u001b[1;32m    896\u001b[0m             \u001b[0moutput_margin\u001b[0m\u001b[0;34m=\u001b[0m\u001b[0moutput_margin\u001b[0m\u001b[0;34m,\u001b[0m\u001b[0;34m\u001b[0m\u001b[0;34m\u001b[0m\u001b[0m\n",
      "\u001b[0;32m/usr/local/lib/python3.7/site-packages/xgboost/sklearn.py\u001b[0m in \u001b[0;36mget_booster\u001b[0;34m(self)\u001b[0m\n\u001b[1;32m    260\u001b[0m         \u001b[0;32mif\u001b[0m \u001b[0;32mnot\u001b[0m \u001b[0mhasattr\u001b[0m\u001b[0;34m(\u001b[0m\u001b[0mself\u001b[0m\u001b[0;34m,\u001b[0m \u001b[0;34m'_Booster'\u001b[0m\u001b[0;34m)\u001b[0m\u001b[0;34m:\u001b[0m\u001b[0;34m\u001b[0m\u001b[0;34m\u001b[0m\u001b[0m\n\u001b[1;32m    261\u001b[0m             \u001b[0;32mfrom\u001b[0m \u001b[0msklearn\u001b[0m\u001b[0;34m.\u001b[0m\u001b[0mexceptions\u001b[0m \u001b[0;32mimport\u001b[0m \u001b[0mNotFittedError\u001b[0m\u001b[0;34m\u001b[0m\u001b[0;34m\u001b[0m\u001b[0m\n\u001b[0;32m--> 262\u001b[0;31m             \u001b[0;32mraise\u001b[0m \u001b[0mNotFittedError\u001b[0m\u001b[0;34m(\u001b[0m\u001b[0;34m'need to call fit or load_model beforehand'\u001b[0m\u001b[0;34m)\u001b[0m\u001b[0;34m\u001b[0m\u001b[0;34m\u001b[0m\u001b[0m\n\u001b[0m\u001b[1;32m    263\u001b[0m         \u001b[0;32mreturn\u001b[0m \u001b[0mself\u001b[0m\u001b[0;34m.\u001b[0m\u001b[0m_Booster\u001b[0m\u001b[0;34m\u001b[0m\u001b[0;34m\u001b[0m\u001b[0m\n\u001b[1;32m    264\u001b[0m \u001b[0;34m\u001b[0m\u001b[0m\n",
      "\u001b[0;31mNotFittedError\u001b[0m: need to call fit or load_model beforehand"
     ]
    }
   ],
   "source": [
    "params ={\"learning_rate\"    : [0.05, 0.10, 0.15] ,\n",
    "         \"max_depth\"        : [ 3, 4, 5, 6],\n",
    "         \"min_child_weight\" : [ 1, 3, 5, 7 ],\n",
    "         \"gamma\"            : [ 0.0, 0.1, 0.2 ],\n",
    "         \"colsample_bytree\" : [ 0.3, 0.4, 0.5] }\n",
    "\n",
    "\n",
    "{'colsample_bytree': 0.5, 'gamma': 0.0, 'learning_rate': 0.15, 'max_depth': 6, 'min_child_weight': 1}\n",
    "\n",
    "\n",
    "xgb = XGBClassifier(base_score = 0.5, booster = 'gbtree', \n",
    "                    colsample_bylevel = 1, colsample_bynode = 1, \n",
    "                    colsample_bytree = 0.5, gamma = 0.0,\n",
    "                    learning_rate = 0.15, max_delta_step = 0, \n",
    "                    max_depth = 6, min_child_weight = 1, \n",
    "                    missing = None, n_estimators = 150, \n",
    "                    n_jobs = 1, nthread = None, objective ='binary:logistic',\n",
    "                    reg_alpha = 0, reg_lambda = 1, scale_pos_weight = 1, \n",
    "                    subsample = 1, verbosity = 1)\n",
    "\n",
    "optimal_model(xgb, params, X_train, y_train, X_test, y_test)\n",
    "\n"
   ]
  },
  {
   "cell_type": "code",
   "execution_count": null,
   "metadata": {},
   "outputs": [],
   "source": []
  }
 ],
 "metadata": {
  "kernelspec": {
   "display_name": "Python 3",
   "language": "python",
   "name": "python3"
  },
  "language_info": {
   "codemirror_mode": {
    "name": "ipython",
    "version": 3
   },
   "file_extension": ".py",
   "mimetype": "text/x-python",
   "name": "python",
   "nbconvert_exporter": "python",
   "pygments_lexer": "ipython3",
   "version": "3.7.7"
  }
 },
 "nbformat": 4,
 "nbformat_minor": 4
}
