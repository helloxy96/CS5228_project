{
 "cells": [
  {
   "cell_type": "code",
   "execution_count": 20,
   "metadata": {
    "pycharm": {
     "is_executing": false
    }
   },
   "outputs": [],
   "source": [
    "import pandas as pd\n",
    "import numpy as np\n",
    "from sklearn.model_selection import train_test_split, KFold, cross_val_score,GridSearchCV\n",
    "from sklearn.metrics import classification_report\n",
    "from xgboost import XGBClassifier"
   ]
  },
  {
   "cell_type": "code",
   "execution_count": 26,
   "metadata": {
    "pycharm": {
     "is_executing": false
    }
   },
   "outputs": [],
   "source": [
    "def categorize_no_emp(number):\n",
    "    if number <= 10:\n",
    "        return 0\n",
    "    elif 10 < number <= 100:\n",
    "        return 1\n",
    "    else:\n",
    "        return 2\n",
    "\n",
    "\n",
    "def categorize_year(year):\n",
    "    if year <= 1988:\n",
    "        return 0\n",
    "    elif 1989 <= year <= 2003:\n",
    "        return 1\n",
    "    elif 2004 <= year <= 2009:\n",
    "        return 2\n",
    "    else:\n",
    "        return 3\n",
    "\n",
    "\n",
    "def categorize_disbursement(number):\n",
    "    if number <= 100000:\n",
    "        return 0\n",
    "    elif 100000 < number <= 500000:\n",
    "        return 1\n",
    "    else:\n",
    "        return 2\n",
    "\n",
    "\n",
    "def categorize_sba_bank(number):\n",
    "    categories = [0.5, 0.75, 0.85, 0.9, 0.8, 1.0, 0.7]\n",
    "    return min(categories, key=lambda x:abs(x-number))\n",
    "\n",
    "\n",
    "def pre_processing(df, categorized=True):\n",
    "    df = df.drop([\"Id\", \"Name\", \"City\", \"Zip\", \"ApprovalDate\", \"DisbursementDate\", \"BalanceGross\"], axis=1)\n",
    "\n",
    "    # convert to numeric\n",
    "    states = {v: k for k, v in enumerate(list(df[\"State\"].unique()))}\n",
    "    df[\"State\"].replace(states, inplace=True)\n",
    "    banks = {v: k for k, v in enumerate(list(df[\"Bank\"].unique()))}\n",
    "    df[\"Bank\"].replace(banks, inplace=True)\n",
    "    bank_states = {v: k for k, v in enumerate(list(df[\"BankState\"].unique()))}\n",
    "    df[\"BankState\"].replace(bank_states, inplace=True)\n",
    "    df[\"Same_Bank_States\"] = df[\"State\"] == df[\"BankState\"]\n",
    "    df[\"NAICS\"] = df[\"NAICS\"].apply(lambda x: x // 10000)\n",
    "\n",
    "    # cleaning\n",
    "    df[\"ApprovalFY\"] = df[\"ApprovalFY\"].replace(\"1976A\", 1976)\n",
    "    df[\"ApprovalFY\"] = df[\"ApprovalFY\"].astype(int)\n",
    "    money_cols = [\"DisbursementGross\", \"GrAppv\", \"SBA_Appv\"]\n",
    "    df[money_cols] = df[money_cols].replace(\"[\\$,]\", \"\", regex=True).astype(float)\n",
    "    df['LowDoc'] = np.where((df['LowDoc'] == \"N\") | (df['LowDoc'] == \"Y\"), df['LowDoc'], np.nan)\n",
    "    df['LowDoc'] = df['LowDoc'].replace({'N': 0, 'Y': 1})\n",
    "    df['RevLineCr'] = np.where((df['RevLineCr'] == \"N\") | (df['RevLineCr'] == \"Y\"), df['RevLineCr'], np.nan)\n",
    "    df['RevLineCr'] = df['RevLineCr'].replace({'N': 0, 'Y': 1})\n",
    "\n",
    "    # convert to categorized data\n",
    "    df[\"ApprovalFY_Cat\"] = df[\"ApprovalFY\"].apply(categorize_year)\n",
    "    df[\"NoEmp_Cat\"] = df[\"NoEmp\"].apply(categorize_no_emp)\n",
    "    df[\"CreateJob_Cat\"] = df[\"CreateJob\"].apply(lambda x: x != 0)\n",
    "    df[\"RetainedJob_Cat\"] = df[\"RetainedJob\"].apply(lambda x: x != 0)\n",
    "    df[\"FranchiseCode_Cat\"] = df[\"FranchiseCode\"].apply(lambda x: x != 0)\n",
    "    df[\"DisbursementGross_Cat\"] = df[\"DisbursementGross\"].apply(categorize_disbursement)\n",
    "    df[\"SBA_vs_Gross\"] = df[\"SBA_Appv\"] / df[\"GrAppv\"]\n",
    "\n",
    "    if categorized:\n",
    "        return df[[\"State\", \"Bank\", \"BankState\", \"NAICS\", \"ApprovalFY_Cat\", \"Term\", \"NoEmp\", \"NewExist\",\n",
    "                   \"CreateJob_Cat\", \"RetainedJob_Cat\", \"FranchiseCode_Cat\", \"UrbanRural\", \"RevLineCr\", \"LowDoc\",\n",
    "                   \"DisbursementGross\", \"SBA_vs_Gross\"]]\n",
    "        # return df[[\"ApprovalFY_Cat\", \"Term\", \"NoEmp\", \"NewExist\", \"CreateJob_Cat\", \"RetainedJob_Cat\", \"RevLineCr\", \"LowDoc\",\n",
    "        #            \"DisbursementGross\", \"SBA_vs_Gross\"]] #remove some columns\n",
    "    else:\n",
    "        return df[[\"State\", \"Bank\", \"BankState\", \"NAICS\", \"ApprovalFY\", \"Term\", \"NoEmp\", \"NewExist\",\n",
    "                   \"CreateJob\", \"RetainedJob\", \"FranchiseCode\", \"UrbanRural\", \"RevLineCr\", \"LowDoc\",\n",
    "                   \"DisbursementGross\", \"SBA_vs_Gross\"]]\n",
    "\n",
    "\n",
    "def predict(model, categorized=True):\n",
    "    x_predict = pd.read_csv('Xtest.csv', dtype={\"ApprovalFY\": object})\n",
    "    x_predict = pre_processing(x_predict, categorized=categorized)\n",
    "    predict_submission = model.predict(x_predict)\n",
    "    submission = pd.DataFrame(predict_submission)\n",
    "    submission.index.name = \"Id\"\n",
    "    submission.to_csv(\"predict_1.csv\", header=[\"ChargeOff\"])\n",
    "\n",
    "\n",
    "def test_performance_cv(model, x, y):\n",
    "    k_fold = KFold(n_splits=10)\n",
    "    results = cross_val_score(model, x, y, cv=k_fold, scoring=\"roc_auc\")\n",
    "    print(\"CV Score: {}\".format((round(results.mean(), 3))))\n",
    "\n",
    "\n",
    "def test_performance(model, x, y):\n",
    "    x_train, x_test, y_train, y_test = train_test_split(x, y, test_size=0.25, random_state=0)\n",
    "    model.fit(x_train, y_train)\n",
    "    predict = model.predict(x_test)\n",
    "    print(classification_report(y_test, predict, digits=3))\n",
    "    \n"
   ]
  },
  {
   "cell_type": "code",
   "execution_count": 27,
   "outputs": [
    {
     "name": "stdout",
     "text": [
      "Fitting 3 folds for each of 180 candidates, totalling 540 fits\n",
      "Best parameters: \n",
      " {'colsample_bytree': 0.4, 'gamma': 0.2, 'max_depth': 9, 'min_child_weight': 7}\n",
      "======================================================================\n"
     ],
     "output_type": "stream"
    },
    {
     "name": "stderr",
     "text": [
      "[Parallel(n_jobs=-1)]: Using backend LokyBackend with 8 concurrent workers.\n",
      "[Parallel(n_jobs=-1)]: Done  34 tasks      | elapsed:   20.6s\n",
      "[Parallel(n_jobs=-1)]: Done 184 tasks      | elapsed:  1.8min\n",
      "[Parallel(n_jobs=-1)]: Done 434 tasks      | elapsed:  4.8min\n",
      "[Parallel(n_jobs=-1)]: Done 540 out of 540 | elapsed:  6.2min finished\n"
     ],
     "output_type": "stream"
    }
   ],
   "source": [
    "def optimal_model(clf, params, x_train,y_train):\n",
    "    search = GridSearchCV(estimator=clf,\n",
    "                          param_grid=params,\n",
    "                          scoring = 'f1',\n",
    "                          n_jobs = -1,\n",
    "                          cv = 3,\n",
    "                          verbose=True)\n",
    "\n",
    "    \n",
    "    search.fit(x_train, y_train)\n",
    "    \n",
    "    best = search.best_estimator_\n",
    "    best_model = best.fit(x_train, y_train)\n",
    "\n",
    "    print('Best parameters: \\n',search.best_params_)\n",
    "    print('='*70)\n",
    "    return best_model\n",
    "    \n",
    "params ={\"max_depth\"        : [ 6, 7, 8, 9, 10],\n",
    "         \"min_child_weight\" : [ 1, 3, 5, 7 ],\n",
    "         \"gamma\"            : [ 0.0, 0.1, 0.2 ],\n",
    "         \"colsample_bytree\" : [ 0.4, 0.5, 0.6] }\n",
    "\n",
    "xgb = XGBClassifier(base_score = 0.5, booster = 'gbtree', \n",
    "                    colsample_bylevel = 1, colsample_bynode = 1, \n",
    "                    colsample_bytree = 0.5, gamma = 0.0,\n",
    "                    learning_rate = 0.15, max_delta_step = 0, \n",
    "                    max_depth = 6, min_child_weight = 1, \n",
    "                    missing = None, n_estimators = 150, \n",
    "                    n_jobs = 1, nthread = None, objective ='binary:logistic',\n",
    "                    reg_alpha = 0, reg_lambda = 1, scale_pos_weight = 1, \n",
    "                    subsample = 1, verbosity = 1)\n",
    "\n",
    "df = pd.read_csv(\"Xtrain.csv\")\n",
    "df = pre_processing(df, categorized=True)\n",
    "df_y = pd.read_csv(\"Ytrain.csv\")\n",
    "y = df_y[\"ChargeOff\"]\n",
    "x = df\n",
    "\n",
    "best_model = optimal_model(xgb, params, x, y)"
   ],
   "metadata": {
    "collapsed": false,
    "pycharm": {
     "name": "#%%\n",
     "is_executing": false
    }
   }
  },
  {
   "cell_type": "code",
   "execution_count": 28,
   "outputs": [
    {
     "name": "stdout",
     "text": [
      "              precision    recall  f1-score   support\n",
      "\n",
      "           0      0.934     0.931     0.933      6342\n",
      "           1      0.929     0.933     0.931      6158\n",
      "\n",
      "    accuracy                          0.932     12500\n",
      "   macro avg      0.932     0.932     0.932     12500\n",
      "weighted avg      0.932     0.932     0.932     12500\n",
      "\n",
      "CV Score: 0.98\n"
     ],
     "output_type": "stream"
    }
   ],
   "source": [
    "test_performance(best_model, x, y)\n",
    "test_performance_cv(best_model, x, y)"
   ],
   "metadata": {
    "collapsed": false,
    "pycharm": {
     "name": "#%%\n",
     "is_executing": false
    }
   }
  },
  {
   "cell_type": "code",
   "execution_count": 29,
   "outputs": [],
   "source": [
    "predict(best_model, categorized=True)\n"
   ],
   "metadata": {
    "collapsed": false,
    "pycharm": {
     "name": "#%%\n",
     "is_executing": false
    }
   }
  },
  {
   "cell_type": "code",
   "execution_count": 5,
   "metadata": {
    "pycharm": {
     "is_executing": false
    }
   },
   "outputs": [
    {
     "name": "stdout",
     "text": [
      "              precision    recall  f1-score   support\n",
      "\n",
      "           0      0.920     0.918     0.919      6342\n",
      "           1      0.916     0.918     0.917      6158\n",
      "\n",
      "    accuracy                          0.918     12500\n",
      "   macro avg      0.918     0.918     0.918     12500\n",
      "weighted avg      0.918     0.918     0.918     12500\n",
      "\n",
      "CV Score: 0.974\n"
     ],
     "output_type": "stream"
    }
   ],
   "source": [
    "df = pd.read_csv(\"Xtrain.csv\")\n",
    "df = pre_processing(df, categorized=True)\n",
    "df_y = pd.read_csv(\"Ytrain.csv\")\n",
    "\n",
    "model = XGBClassifier(n_estimators=77, learning_rate=0.15, colsample_bytree=1, gamma=0.0,\n",
    "                      min_child_weight=1, max_depth=10)\n",
    "\n",
    "\n",
    "y = df_y[\"ChargeOff\"]\n",
    "x = df\n",
    "model.fit(x, y)\n",
    "\n",
    "test_performance(model, x, y)\n",
    "test_performance_cv(model, x, y)\n",
    "\n",
    "predict(model, categorized=True)"
   ]
  },
  {
   "cell_type": "code",
   "execution_count": null,
   "metadata": {},
   "outputs": [],
   "source": []
  }
 ],
 "metadata": {
  "kernelspec": {
   "display_name": "Python 3",
   "language": "python",
   "name": "python3"
  },
  "language_info": {
   "codemirror_mode": {
    "name": "ipython",
    "version": 3
   },
   "file_extension": ".py",
   "mimetype": "text/x-python",
   "name": "python",
   "nbconvert_exporter": "python",
   "pygments_lexer": "ipython3",
   "version": "3.7.7"
  },
  "pycharm": {
   "stem_cell": {
    "cell_type": "raw",
    "source": [],
    "metadata": {
     "collapsed": false
    }
   }
  }
 },
 "nbformat": 4,
 "nbformat_minor": 4
}