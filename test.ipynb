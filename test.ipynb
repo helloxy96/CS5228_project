{
 "cells": [
  {
   "cell_type": "code",
   "execution_count": 59,
   "metadata": {
    "collapsed": true,
    "pycharm": {
     "is_executing": false
    }
   },
   "outputs": [
    {
     "traceback": [
      "\u001b[1;31m---------------------------------------------------------------------------\u001b[0m",
      "\u001b[1;31mImportError\u001b[0m                               Traceback (most recent call last)",
      "\u001b[1;32m<ipython-input-59-e8d5b2c853bd>\u001b[0m in \u001b[0;36m<module>\u001b[1;34m\u001b[0m\n\u001b[0;32m      5\u001b[0m \u001b[1;32mfrom\u001b[0m \u001b[0msklearn\u001b[0m\u001b[1;33m.\u001b[0m\u001b[0mmodel_selection\u001b[0m \u001b[1;32mimport\u001b[0m \u001b[0mtrain_test_split\u001b[0m\u001b[1;33m\u001b[0m\u001b[1;33m\u001b[0m\u001b[0m\n\u001b[0;32m      6\u001b[0m \u001b[1;32mfrom\u001b[0m \u001b[0msklearn\u001b[0m\u001b[1;33m.\u001b[0m\u001b[0mmetrics\u001b[0m \u001b[1;32mimport\u001b[0m \u001b[0mconfusion_matrix\u001b[0m\u001b[1;33m,\u001b[0m \u001b[0mclassification_report\u001b[0m\u001b[1;33m\u001b[0m\u001b[1;33m\u001b[0m\u001b[0m\n\u001b[1;32m----> 7\u001b[1;33m \u001b[1;32mfrom\u001b[0m \u001b[0msklearn\u001b[0m\u001b[1;33m.\u001b[0m\u001b[0mmetrics\u001b[0m \u001b[1;32mimport\u001b[0m \u001b[0mplot_confusion_matrix\u001b[0m\u001b[1;33m,\u001b[0m \u001b[0mf1_score\u001b[0m\u001b[1;33m,\u001b[0m\u001b[0mauc\u001b[0m\u001b[1;33m,\u001b[0m\u001b[0mroc_curve\u001b[0m\u001b[1;33m,\u001b[0m\u001b[0mroc_auc_score\u001b[0m\u001b[1;33m,\u001b[0m \u001b[0mprecision_recall_curve\u001b[0m\u001b[1;33m\u001b[0m\u001b[1;33m\u001b[0m\u001b[0m\n\u001b[0m\u001b[0;32m      8\u001b[0m \u001b[1;33m\u001b[0m\u001b[0m\n",
      "\u001b[1;31mImportError\u001b[0m: cannot import name 'plot_confusion_matrix' from 'sklearn.metrics' (E:\\Study\\Anaconda\\lib\\site-packages\\sklearn\\metrics\\__init__.py)"
     ],
     "ename": "ImportError",
     "evalue": "cannot import name 'plot_confusion_matrix' from 'sklearn.metrics' (E:\\Study\\Anaconda\\lib\\site-packages\\sklearn\\metrics\\__init__.py)",
     "output_type": "error"
    }
   ],
   "source": [
    "import pandas as pd\n",
    "import numpy as np\n",
    "import seaborn as sb\n",
    "import math\n",
    "from sklearn.model_selection import train_test_split\n",
    "from sklearn.metrics import confusion_matrix, classification_report"
   ]
  },
  {
   "cell_type": "code",
   "execution_count": null,
   "outputs": [],
   "source": [
    "df = pd.read_csv('Xtrain.csv')\n",
    "df_y = pd.read_csv('Ytrain.csv')\n",
    "df = pd.concat([df, df_y['ChargeOff']], axis=1, sort=False)"
   ],
   "metadata": {
    "collapsed": false,
    "pycharm": {
     "name": "#%%\n"
    }
   }
  },
  {
   "cell_type": "code",
   "execution_count": 44,
   "outputs": [
    {
     "name": "stdout",
     "text": [
      "<class 'pandas.core.frame.DataFrame'>\n",
      "RangeIndex: 50000 entries, 0 to 49999\n",
      "Data columns (total 25 columns):\n",
      "Id                   50000 non-null int64\n",
      "Name                 49999 non-null object\n",
      "City                 50000 non-null object\n",
      "State                50000 non-null object\n",
      "Zip                  50000 non-null int64\n",
      "Bank                 49924 non-null object\n",
      "BankState            49923 non-null object\n",
      "NAICS                50000 non-null int64\n",
      "ApprovalDate         50000 non-null object\n",
      "ApprovalFY           50000 non-null object\n",
      "Term                 50000 non-null int64\n",
      "NoEmp                50000 non-null int64\n",
      "NewExist             49993 non-null float64\n",
      "CreateJob            50000 non-null int64\n",
      "RetainedJob          50000 non-null int64\n",
      "FranchiseCode        50000 non-null int64\n",
      "UrbanRural           50000 non-null int64\n",
      "RevLineCr            49847 non-null object\n",
      "LowDoc               49828 non-null object\n",
      "DisbursementDate     49881 non-null object\n",
      "DisbursementGross    50000 non-null object\n",
      "BalanceGross         50000 non-null object\n",
      "GrAppv               50000 non-null object\n",
      "SBA_Appv             50000 non-null object\n",
      "ChargeOff            50000 non-null int64\n",
      "dtypes: float64(1), int64(10), object(14)\n",
      "memory usage: 9.5+ MB\n",
      "None\n"
     ],
     "output_type": "stream"
    }
   ],
   "source": [
    "print(df.info())"
   ],
   "metadata": {
    "collapsed": false,
    "pycharm": {
     "name": "#%%\n",
     "is_executing": false
    }
   }
  },
  {
   "cell_type": "code",
   "execution_count": 45,
   "outputs": [],
   "source": [
    "df = df.drop(['Name', 'City', 'Zip', 'BankState', 'Bank'], axis= 1)"
   ],
   "metadata": {
    "collapsed": false,
    "pycharm": {
     "name": "#%%\n",
     "is_executing": false
    }
   }
  },
  {
   "cell_type": "code",
   "execution_count": 46,
   "outputs": [
    {
     "name": "stdout",
     "text": [
      "['FL' 'UT' 'CA' 'WI' 'MO' 'CO' 'NV' 'MD' 'OH' 'TX' 'VA' 'KS' 'MA' 'IA'\n",
      " 'GA' 'WA' 'IL' 'NE' 'ND' 'RI' 'AZ' 'MN' 'WY' 'NJ' 'OK' 'NY' 'CT' 'IN'\n",
      " 'HI' 'ID' 'KY' 'PA' 'MI' 'AR' 'TN' 'NH' 'MT' 'OR' 'WV' 'MS' 'NC' 'SD'\n",
      " 'AL' 'DE' 'DC' 'LA' 'AK' 'ME' 'VT' 'SC' 'NM']\n"
     ],
     "output_type": "stream"
    }
   ],
   "source": [
    "print(df['State'].unique())\n",
    "\n",
    "def get_state_code(state):\n",
    "    #https://www.stateabbreviations.us/\n",
    "    state_map = {'AK': 1, 'AL': 2, 'AR': 3, 'AZ': 4,'CA': 5, 'CO': 6, 'CT': 7, 'DC': 8,\n",
    "                 'DE': 9, 'FL': 10, 'GA': 11, 'HI': 12, 'IA': 13, 'ID': 14, 'IL': 15, 'IN': 16, \n",
    "                 'KS': 17, 'KY': 18, 'LA': 19, 'MA': 20, 'MD': 21, 'ME': 22, 'MI': 23, 'MN': 24,\n",
    "                 'MO': 25, 'MS': 26, 'MT': 27, 'NC': 28, 'ND': 29, 'NE': 30, 'NH': 31, 'NJ': 32,\n",
    "                 'NM': 33, 'NV': 34, 'NY': 35, 'OH': 36, 'OK': 37, 'OR': 38, 'PA': 39, 'RI': 40,\n",
    "                 'SC': 41, 'SD': 42, 'TN': 43, 'TX': 44, 'UT': 45, 'VA': 46, 'VT': 47, 'WA': 48,\n",
    "                 'WI': 49, 'WV': 50, 'WY': 51}\n",
    "    if state in state_map:\n",
    "        return state_map[state]\n",
    "    else:\n",
    "        return 0\n",
    "\n",
    "df['State'] = df['State'].apply(get_state_code)\n"
   ],
   "metadata": {
    "collapsed": false,
    "pycharm": {
     "name": "#%%\n",
     "is_executing": false
    }
   }
  },
  {
   "cell_type": "code",
   "execution_count": 47,
   "outputs": [
    {
     "data": {
      "text/plain": "<matplotlib.axes._subplots.AxesSubplot at 0x1abb455c388>"
     },
     "metadata": {},
     "output_type": "execute_result",
     "execution_count": 47
    },
    {
     "data": {
      "text/plain": "<Figure size 432x288 with 1 Axes>",
      "image/png": "[encoded data removed]"
     },
     "metadata": {
      "needs_background": "light"
     },
     "output_type": "display_data"
    }
   ],
   "source": [
    "def get_industry_code(naics):\n",
    "    #https://www.naics.com/search/\n",
    "    if naics <= 0:\n",
    "        return 0\n",
    "    \n",
    "    code =  naics // 10 ** (int(math.log(naics, 10)) - 1)\n",
    "    if code >=31 and code <= 33:\n",
    "        code = 31\n",
    "    if code >= 44 and code <= 45:\n",
    "        code = 45\n",
    "    if code >= 48 and code <= 49:\n",
    "        code = 48\n",
    "    return code\n",
    "\n",
    "df['NAICS'] = df['NAICS'].apply(get_industry_code)\n",
    "sb.countplot(x='NAICS', data=df)\n",
    "    "
   ],
   "metadata": {
    "collapsed": false,
    "pycharm": {
     "name": "#%%\n",
     "is_executing": false
    }
   }
  },
  {
   "cell_type": "code",
   "execution_count": 48,
   "outputs": [
    {
     "name": "stdout",
     "text": [
      "['2010' '2002' '1994' '2006' '2008' '2000' '2007' '2005' '2001' '2011'\n",
      " '1996' '1984' '2004' '1989' '1999' '1998' '2003' '2009' '1997' '1992'\n",
      " '1990' '1993' '1985' '1983' '1991' '1995' '2012' '1986' '1987' '1982'\n",
      " '1988' '2013' '1981' '1978' '1979' '1980' '1977' '1973' '2014' '1976'\n",
      " '1974' '1975' '1971' '1972' '1970' '1969' '1976A']\n",
      "[2010 2002 1994 2006 2008 2000 2007 2005 2001 2011 1996 1984 2004 1989\n",
      " 1999 1998 2003 2009 1997 1992 1990 1993 1985 1983 1991 1995 2012 1986\n",
      " 1987 1982 1988 2013 1981 1978 1979 1980 1977 1973 2014 1976 1974 1975\n",
      " 1971 1972 1970 1969]\n"
     ],
     "output_type": "stream"
    }
   ],
   "source": [
    "print(df['ApprovalFY'].unique())\n",
    "\n",
    "df['ApprovalFY'] = df['ApprovalFY'].replace('1976A', 1976)\n",
    "df['ApprovalFY'] = df['ApprovalFY'].astype(int)\n",
    "\n",
    "print(df['ApprovalFY'].unique())"
   ],
   "metadata": {
    "collapsed": false,
    "pycharm": {
     "name": "#%%\n",
     "is_executing": false
    }
   }
  },
  {
   "cell_type": "code",
   "execution_count": 49,
   "outputs": [
    {
     "name": "stdout",
     "text": [
      "['N' 'Y' nan 'S' '0' 'C' 'A' 'R']\n"
     ],
     "output_type": "stream"
    },
    {
     "data": {
      "text/plain": "<Figure size 432x288 with 1 Axes>",
      "image/png": "[encoded data removed]"
     },
     "metadata": {
      "needs_background": "light"
     },
     "output_type": "display_data"
    }
   ],
   "source": [
    "print(df['LowDoc'].unique())\n",
    "sb.countplot(x='LowDoc', data=df)\n",
    "sb.countplot(x='LowDoc', data=df)\n",
    "df['LowDoc'] = df['LowDoc'].replace({'S': None, '0': None, 'C':None, 'A':None, 'R':None})\n",
    "df['LowDoc'] = df['LowDoc'].replace({'N': 0, 'Y':1})"
   ],
   "metadata": {
    "collapsed": false,
    "pycharm": {
     "name": "#%%\n",
     "is_executing": false
    }
   }
  },
  {
   "cell_type": "code",
   "execution_count": 50,
   "outputs": [
    {
     "name": "stdout",
     "text": [
      "[ 1.  2.  0. nan]\n"
     ],
     "output_type": "stream"
    },
    {
     "data": {
      "text/plain": "<Figure size 432x288 with 1 Axes>",
      "image/png": "[encoded data removed]"
     },
     "metadata": {
      "needs_background": "light"
     },
     "output_type": "display_data"
    }
   ],
   "source": [
    "print(df['NewExist'].unique())\n",
    "sb.countplot(x='NewExist', data=df)\n",
    "df['NewExist'] = df['NewExist'].replace(0, None)"
   ],
   "metadata": {
    "collapsed": false,
    "pycharm": {
     "name": "#%%\n",
     "is_executing": false
    }
   }
  },
  {
   "cell_type": "code",
   "execution_count": 51,
   "outputs": [
    {
     "name": "stdout",
     "text": [
      "['N' 'Y' 'T' '0' nan]\n"
     ],
     "output_type": "stream"
    },
    {
     "data": {
      "text/plain": "<Figure size 432x288 with 1 Axes>",
      "image/png": "[encoded data removed]"
     },
     "metadata": {
      "needs_background": "light"
     },
     "output_type": "display_data"
    }
   ],
   "source": [
    "print(df['RevLineCr'].unique())\n",
    "sb.countplot(x='RevLineCr', data=df)\n",
    "df['RevLineCr'] = df['RevLineCr'].replace({'T': None, 'N': 0, 'Y':1, '0': 0})"
   ],
   "metadata": {
    "collapsed": false,
    "pycharm": {
     "name": "#%%\n",
     "is_executing": false
    }
   }
  },
  {
   "cell_type": "code",
   "execution_count": 52,
   "outputs": [
    {
     "name": "stdout",
     "text": [
      "[    0     1  9050 25035 66347 17900 36995 64609 77020 89352 22470 15100\n",
      " 68020 78760 34650 10611 68150 67750   900 52000 32055 30811 87580  8023\n",
      " 10494 67255 52875 64976 54100 17998 66910 89775 71685  6140 10676 79140\n",
      " 70879 89785 68060 39700 79153 69146  1350 64950 67759 75000 74782 89639\n",
      " 79950 50850 66694 10703 21425 29237 50564  1507 82285 16868 32130 10625\n",
      " 21780 79220 20550  2105 68250 61400 37469 48020 65140 38510 17750 77174\n",
      "  8659 44725 65925 19755 33150 71650 74770 34845 47400 77895 81965 84725\n",
      " 89769 79902 62360  1560 58686 20546 35706 21420 66666 10484 66486 50954\n",
      " 81630 65100 52070 71720 64211 65152 46750 65250 38605 25650 32418 53650\n",
      " 17205 81612 38601 10605   407 43570 79350 65150 31154 75900 31360 48450\n",
      " 14839 66615  7969 46425 28883 81621 47426 56575 21870 64900 64657 23000\n",
      " 61901 17584 73525 70671 75410 66643 39598 24850 28960 55825 70554 29582\n",
      " 10528 45150 33165 41850 39588 80025 26650 57601 58616 60590 51778 24706\n",
      " 81606 66350 73675 11950 46410 49952 59225 69058 10465 44600  4250 42540\n",
      " 30505 23379 56915 68021 56925 76282 39237  6050 62907 36745 18126 69149\n",
      " 86720 90875 53324 22475 44065 42580 10643 19550 51725 77410 28236 73000\n",
      " 55512 83450 29600  9800 60020 20705 61290 10535 90898 37474  3512 10275\n",
      " 39555 56880 10734 31150 45970 57300 64977 42530 10481 43579 18150 91297\n",
      " 20124  4516  9802 70130 50860 90709 41790 35619  4154 21735 37460 25360\n",
      " 10726 45915 54600 48500  1495 80379 76416 48400 52707 72590 56885 82360\n",
      " 23104  9804 66320 55650 52891 84300   485  5549 47050 75050 33570 53165\n",
      " 39238 26135 84105 16267 80600 81601 50140 90961 85353  2107 49975 72683\n",
      "  9450 38850 77027 43720  5725 37066 28880 28877 40470 48260 45919 44080\n",
      " 61802 56884 59450 18510 28911 56824 10685 33509 74789 74005 16035 34659\n",
      " 41298 89650 88875 35620 10652 25438  4416 47751 34900 76256 27765 50525\n",
      " 67417 65496 11250  6410 29912 30233  6305  6125 55120 80190 63815 29720\n",
      " 55680 43552 80850 38600 36560 28350 61391 24001 24957 26685 52855 63010\n",
      " 41455 50520 68175 84340 18000 77380 21400 64750 55185 78950 32050 58615\n",
      " 42600 35702 80360 68864 61897 40711 33210 17646 35320 31415 29900 34653\n",
      " 38615   420 77173 42000 77899 59550 10741 60525 40660 65145 10737 53657\n",
      " 36204 72518 29585 64205 46992 79725 73740 20359 52018 36756 30215 46455\n",
      " 55960  2932 15710 77890 31300 61260 66345 54300  3500 45495 42636 35300\n",
      " 21660 34830 75710 64995 62753 80300 53250 17524 84025 81800 91169 73900\n",
      " 72990 82040 33750 91283 48000 62100 12481 30925 45479 36440 77875 10589\n",
      " 61389 73793 88200 10533 10950 20500 78420 71194 17587 67961 10692 83882\n",
      " 78237 77185  9202 71669 20728 81575 35605  4262 35710 51720 82220 33470\n",
      " 46414  9230 35711 63810 53660 44350 21038 64857 43571 80085 88407   452\n",
      " 37000 85029 67735  9118 24745 85325 45455 10776 60790 34550 81550 62751\n",
      " 82495 76760 64765 91168 57270 85304 81611 88355 78340 81860 35500 24421\n",
      " 89365 46408 35326 79105 22676 30210 10501 59505 82234 17050 81588 52200\n",
      " 89350 47210 46815  9110 64881 39590 26871 76955 48815 36680 56821 21025\n",
      " 44045 18145 46336 16920 80979 15602 18925 26553 20750 10574  2354 40659\n",
      " 54010 51630 33485 35707 10691 17049 91280 15805 67434 34066 84495 51702\n",
      " 15713 20106  2917 84060 89626 56480 44033 24419 38560 91350 71185 10689\n",
      " 90206 17230 17150 36752 52865 45145 10618  4745 10604 12278 84255 79928\n",
      " 41427 40650  3490 78350 10682 82769 12720 84500 36260 33185 84535 50965\n",
      " 10580 71675 33170 83430 60005 16033 48385 63897     3 88230 88904 81570\n",
      " 25656 48038  3518 50040 62760 70875 74000 75719 64990 46345 67420 50990\n",
      " 43783 24003 60567 62715 34850 35705 45496 61896 70405 40665 61000 46561\n",
      "  6559 38590 81589 24700 84042 50845 71947 26557 16310 75982 58723 63650\n",
      " 39251 65149 74820 78329 74302 10686 33550 91253 42629 62349 25404 17256\n",
      " 43750 90800 66200 77900 75988 39600 34450 16280 68179 43587 64882 71158\n",
      " 71010 50560 67400 77405 16455 67280 67197 58910 58713  4459 79908 79169\n",
      " 44081 48550 56837 63350 19118 23003 53651 15808 43810 72377 63345 17920\n",
      " 24027 57275  2357 85360 88660 47756 75355 34459 55212 55513 52898 56878\n",
      " 73748 67550  3515 60792 61384 74750 64870 67430 61401 71937 42610 30520\n",
      " 45100 10556  2360 20149 68905 10569 49200  1357 52004 43555 80159 44066\n",
      " 80377 58650 34652 36660 74747 20780 46330 89640 10476 64654 32125 65845\n",
      " 52250 36750  1497 10729 71456 71455 37468 46413  9120 75432  6153 41100\n",
      " 86690 53162 72215 69134 29009 35635 64200 76710 52900 83877 47406 29116\n",
      " 62390  4160 20958 39243 40666 46550 68217 69995 35703 89630  6131 38450\n",
      " 35629 15980 89655 10620 79000 61398  6620 55193 45912  8650 61898 10615\n",
      " 59979 26550 30229 20551 20100 17985 32070 89638 74180 16860 71000 80374\n",
      " 51956 20122 60804 91999 10581 55519 58685 34849 67176 67380 17586 59500\n",
      " 22368 10591 44006 28250  4509   700 44062 81555 10449 34654 24970 52079\n",
      " 56574 20715 64960 62850 50566 37060 61915 85280 81603 68451 89645 67219\n",
      " 46660 43302 14200 77885 64655 83910 10505 43700 55990 84090 79152 67350\n",
      "  2297  6560 35600 44627 87050 84077  5650 47500 76750 60300 74410 78750\n",
      " 15925 40700 64997 84030 29976 67715 67753  8015 35610 20108 58712 76930\n",
      " 25366 41428 75385 56230 10626 88404 56223 53325 38765 88913 21930 68255\n",
      " 74305 12614   395 77746 16905 24260 70670 53151  8045]\n"
     ],
     "output_type": "stream"
    },
    {
     "data": {
      "text/plain": "<matplotlib.axes._subplots.AxesSubplot at 0x1abb2441748>"
     },
     "metadata": {},
     "output_type": "execute_result",
     "execution_count": 52
    },
    {
     "data": {
      "text/plain": "<Figure size 432x288 with 1 Axes>",
      "image/png": "[encoded data removed]"
     },
     "metadata": {
      "needs_background": "light"
     },
     "output_type": "display_data"
    }
   ],
   "source": [
    "print(df['FranchiseCode'].unique())\n",
    "df['FranchiseCode'] = df['FranchiseCode'].replace(1,0 )\n",
    "df['FranchiseCode'] = np.where((df.FranchiseCode != 0 ), 1, 0)\n",
    "sb.countplot(x='FranchiseCode', data=df)\n"
   ],
   "metadata": {
    "collapsed": false,
    "pycharm": {
     "name": "#%%\n",
     "is_executing": false
    }
   }
  },
  {
   "cell_type": "code",
   "execution_count": 53,
   "outputs": [],
   "source": [
    "money_cols = ['DisbursementGross', 'BalanceGross','GrAppv', 'SBA_Appv']\n",
    "df[money_cols] = df[money_cols].replace('[\\$,]', '', regex=True).astype(float) "
   ],
   "metadata": {
    "collapsed": false,
    "pycharm": {
     "name": "#%%\n",
     "is_executing": false
    }
   }
  },
  {
   "cell_type": "code",
   "execution_count": 54,
   "outputs": [
    {
     "name": "stdout",
     "text": [
      "   Id  State  NAICS ApprovalDate  ApprovalFY  Term  NoEmp  NewExist  \\\n",
      "0   0     10     31   2010-04-16        2010   130     25       1.0   \n",
      "1   1     45     23   2010-01-30        2010    33      6       1.0   \n",
      "2   2      5     81   2002-07-29        2002    60      1       1.0   \n",
      "3   3     49      0   1994-06-10        1994   160      1       2.0   \n",
      "4   4     25     62   2006-02-06        2006   101      2       1.0   \n",
      "\n",
      "   CreateJob  RetainedJob  FranchiseCode  UrbanRural  RevLineCr  LowDoc  \\\n",
      "0          2            0              0           1        0.0     0.0   \n",
      "1          1            3              0           1        0.0     0.0   \n",
      "2          1            1              0           1        1.0     0.0   \n",
      "3          0            0              0           0        0.0     0.0   \n",
      "4          7            2              0           1        NaN     0.0   \n",
      "\n",
      "  DisbursementDate  DisbursementGross  BalanceGross     GrAppv   SBA_Appv  \\\n",
      "0       2010-05-01          2000000.0           0.0  2000000.0  1500000.0   \n",
      "1       2010-02-01            17000.0           0.0    17000.0    17000.0   \n",
      "2       2002-08-31            17000.0           0.0    17000.0     8500.0   \n",
      "3       1994-07-31           137000.0           0.0   137000.0   123300.0   \n",
      "4       2006-03-31            46665.0           0.0    25000.0    12500.0   \n",
      "\n",
      "   ChargeOff  \n",
      "0          0  \n",
      "1          1  \n",
      "2          0  \n",
      "3          0  \n",
      "4          0  \n"
     ],
     "output_type": "stream"
    }
   ],
   "source": [
    "date_cols = ['ApprovalDate', 'DisbursementDate']\n",
    "df[date_cols] = pd.to_datetime(df[date_cols].stack(), format='%d-%b-%y').unstack()\n",
    "print(df[date_cols].head())"
   ],
   "metadata": {
    "collapsed": false,
    "pycharm": {
     "name": "#%%\n",
     "is_executing": false
    }
   }
  },
  {
   "cell_type": "code",
   "execution_count": 55,
   "outputs": [
    {
     "name": "stdout",
     "text": [
      "<class 'pandas.core.frame.DataFrame'>\n",
      "Int64Index: 48009 entries, 0 to 49999\n",
      "Data columns (total 20 columns):\n",
      "Id                   48009 non-null int64\n",
      "State                48009 non-null int64\n",
      "NAICS                48009 non-null int64\n",
      "ApprovalDate         48009 non-null datetime64[ns]\n",
      "ApprovalFY           48009 non-null int32\n",
      "Term                 48009 non-null int64\n",
      "NoEmp                48009 non-null int64\n",
      "NewExist             48009 non-null int32\n",
      "CreateJob            48009 non-null int64\n",
      "RetainedJob          48009 non-null int64\n",
      "FranchiseCode        48009 non-null int32\n",
      "UrbanRural           48009 non-null int64\n",
      "RevLineCr            48009 non-null int32\n",
      "LowDoc               48009 non-null int32\n",
      "DisbursementDate     48009 non-null datetime64[ns]\n",
      "DisbursementGross    48009 non-null float64\n",
      "BalanceGross         48009 non-null float64\n",
      "GrAppv               48009 non-null float64\n",
      "SBA_Appv             48009 non-null float64\n",
      "ChargeOff            48009 non-null int64\n",
      "dtypes: datetime64[ns](2), float64(4), int32(5), int64(9)\n",
      "memory usage: 6.8 MB\n",
      "None\n"
     ],
     "output_type": "stream"
    },
    {
     "name": "stderr",
     "text": [
      "E:\\Study\\Anaconda\\lib\\site-packages\\ipykernel_launcher.py:2: SettingWithCopyWarning: \n",
      "A value is trying to be set on a copy of a slice from a DataFrame.\n",
      "Try using .loc[row_indexer,col_indexer] = value instead\n",
      "\n",
      "See the caveats in the documentation: http://pandas.pydata.org/pandas-docs/stable/user_guide/indexing.html#returning-a-view-versus-a-copy\n",
      "  \n",
      "E:\\Study\\Anaconda\\lib\\site-packages\\ipykernel_launcher.py:3: SettingWithCopyWarning: \n",
      "A value is trying to be set on a copy of a slice from a DataFrame.\n",
      "Try using .loc[row_indexer,col_indexer] = value instead\n",
      "\n",
      "See the caveats in the documentation: http://pandas.pydata.org/pandas-docs/stable/user_guide/indexing.html#returning-a-view-versus-a-copy\n",
      "  This is separate from the ipykernel package so we can avoid doing imports until\n",
      "E:\\Study\\Anaconda\\lib\\site-packages\\ipykernel_launcher.py:4: SettingWithCopyWarning: \n",
      "A value is trying to be set on a copy of a slice from a DataFrame.\n",
      "Try using .loc[row_indexer,col_indexer] = value instead\n",
      "\n",
      "See the caveats in the documentation: http://pandas.pydata.org/pandas-docs/stable/user_guide/indexing.html#returning-a-view-versus-a-copy\n",
      "  after removing the cwd from sys.path.\n"
     ],
     "output_type": "stream"
    }
   ],
   "source": [
    "df = df.dropna()\n",
    "df['LowDoc'] = df['LowDoc'].astype(int)\n",
    "df['NewExist'] = df['NewExist'].astype(int)\n",
    "df['RevLineCr'] = df['RevLineCr'].astype(int)\n",
    "\n",
    "print(df.info())"
   ],
   "metadata": {
    "collapsed": false,
    "pycharm": {
     "name": "#%%\n",
     "is_executing": false
    }
   }
  },
  {
   "cell_type": "code",
   "execution_count": 58,
   "outputs": [
    {
     "name": "stdout",
     "text": [
      "       RevLineCr  Term    GrAppv  State  NAICS  DisbursementGross  \\\n",
      "24819          0   180  495500.0     38      0           495500.0   \n",
      "24210          0   154  144000.0      3      0           137331.0   \n",
      "46685          1    19  100000.0     15     62           256857.0   \n",
      "32443          0   180   75000.0     51     45            75000.0   \n",
      "14164          1    16   50000.0      4     42           187910.0   \n",
      "\n",
      "       RetainedJob  CreateJob  \n",
      "24819            0          0  \n",
      "24210            0          0  \n",
      "46685            0          0  \n",
      "32443            0          0  \n",
      "14164            3          5  \n"
     ],
     "output_type": "stream"
    },
    {
     "data": {
      "text/plain": "<Figure size 432x288 with 1 Axes>",
      "image/png": "[encoded data removed]"
     },
     "metadata": {
      "needs_background": "light"
     },
     "output_type": "display_data"
    }
   ],
   "source": [
    "sb.countplot(x='ChargeOff', data=df)\n",
    "\n",
    "df_train = df[['RevLineCr', 'Term', 'GrAppv', 'State', 'NAICS', 'DisbursementGross', 'RetainedJob', 'CreateJob']]\n",
    "y = df['ChargeOff']\n",
    "X_train, X_test, y_train, y_test = train_test_split(df_train, y, test_size = 0.2, random_state = 2020, stratify = y)\n",
    "\n",
    "\n"
   ],
   "metadata": {
    "collapsed": false,
    "pycharm": {
     "name": "#%%\n",
     "is_executing": false
    }
   }
  }
 ],
 "metadata": {
  "kernelspec": {
   "display_name": "Python 3",
   "language": "python",
   "name": "python3"
  },
  "language_info": {
   "codemirror_mode": {
    "name": "ipython",
    "version": 2
   },
   "file_extension": ".py",
   "mimetype": "text/x-python",
   "name": "python",
   "nbconvert_exporter": "python",
   "pygments_lexer": "ipython2",
   "version": "2.7.6"
  },
  "pycharm": {
   "stem_cell": {
    "cell_type": "raw",
    "source": [],
    "metadata": {
     "collapsed": false
    }
   }
  }
 },
 "nbformat": 4,
 "nbformat_minor": 0
}